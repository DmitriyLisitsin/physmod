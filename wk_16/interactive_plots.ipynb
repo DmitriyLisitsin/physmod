{
 "cells": [
  {
   "cell_type": "code",
   "execution_count": 1,
   "metadata": {},
   "outputs": [
    {
     "data": {
      "text/plain": [
       "<Figure size 432x288 with 0 Axes>"
      ]
     },
     "metadata": {},
     "output_type": "display_data"
    },
    {
     "data": {
      "image/png": "[encoded data removed]",
      "text/plain": [
       "<Figure size 432x288 with 1 Axes>"
      ]
     },
     "metadata": {
      "needs_background": "light"
     },
     "output_type": "display_data"
    }
   ],
   "source": [
    "from matplotlib import pyplot as plt\n",
    "\n",
    "import numpy as np\n",
    "\n",
    "t = np.linspace(0,100,1000)\n",
    "\n",
    "A1 = 1\n",
    "A2 = 2\n",
    "\n",
    "y1 = A1*np.sin(t)\n",
    "y2 = A2*np.sin(2*t) + y1\n",
    "\n",
    "x1 = A1 * np.cos(t)\n",
    "x2 = A2 * np.cos(2*t) + x1\n",
    "\n",
    "plt.close(\"all\")\n",
    "fh = plt.figure()\n",
    "fh, ah = plt.subplots()\n",
    "\n",
    "def plot_frame(ah, i):\n",
    "    ah.plot ([0.0, x1[i], x2[i]], [0.0, y1[i], y2[i]])\n",
    "    ah.scatter([x1[i]], y1[i], color=\"red\")\n",
    "    ah.scatter([x2[i]], y2[i], color=\"green\")\n",
    "    \n",
    "plot_frame(ah, 10)\n",
    "\n",
    "\n"
   ]
  },
  {
   "cell_type": "code",
   "execution_count": 8,
   "metadata": {},
   "outputs": [
    {
     "data": {
      "application/vnd.jupyter.widget-view+json": {
       "model_id": "a7e49a9fcd534cfa8b4b4abbdb26bcb9",
       "version_major": 2,
       "version_minor": 0
      },
      "text/plain": [
       "HBox(children=(IntSlider(value=1, continuous_update=False, max=1000, min=1),))"
      ]
     },
     "metadata": {},
     "output_type": "display_data"
    },
    {
     "data": {
      "application/vnd.jupyter.widget-view+json": {
       "model_id": "b1d955da6b974c7fa3f7b6dc56eb227c",
       "version_major": 2,
       "version_minor": 0
      },
      "text/plain": [
       "Output()"
      ]
     },
     "metadata": {},
     "output_type": "display_data"
    }
   ],
   "source": [
    "\n",
    "from IPython.display import display\n",
    "import matplotlib.pylab as plt\n",
    "import numpy as np\n",
    "from ipywidgets import FloatSlider, IntSlider, interactive_output, HBox\n",
    "# %matplotlib inline\n",
    "\n",
    "frames = np.zeros([x1.size], dtype=[('x1',np.float), ('x2',np.float), ('y1',np.float), ('y2',np.float)])\n",
    "\n",
    "frames['x1'] = x1\n",
    "frames['x2'] = x2\n",
    "frames['y1'] = y1\n",
    "frames['y2'] = y2\n",
    "\n",
    "\n",
    "def plot_frame(i, frames=frames):\n",
    "    fh, ah = plt.subplots()\n",
    "    ah.set_xlim(-3.0, 3.0)\n",
    "    ah.set_ylim(-3.0, 3.0)\n",
    "    ah.plot ([0.0, x1[i], x2[i]], [0.0, y1[i], y2[i]])\n",
    "    ah.scatter([x1[i]], y1[i], color=\"red\")\n",
    "    ah.scatter([x2[i]], y2[i], color=\"green\")\n",
    "    \n",
    "idx = IntSlider(min=1,max=x1.size,value=1, continuous_update=False,)\n",
    "\n",
    "#The difference is here:\n",
    "\n",
    "out = interactive_output(plot_frame, {'i': idx})\n",
    "display(HBox([idx]), out)"
   ]
  },
  {
   "cell_type": "code",
   "execution_count": null,
   "metadata": {},
   "outputs": [],
   "source": []
  }
 ],
 "metadata": {
  "kernelspec": {
   "display_name": "Python 3",
   "language": "python",
   "name": "python3"
  },
  "language_info": {
   "codemirror_mode": {
    "name": "ipython",
    "version": 3
   },
   "file_extension": ".py",
   "mimetype": "text/x-python",
   "name": "python",
   "nbconvert_exporter": "python",
   "pygments_lexer": "ipython3",
   "version": "3.8.10"
  }
 },
 "nbformat": 4,
 "nbformat_minor": 4
}
